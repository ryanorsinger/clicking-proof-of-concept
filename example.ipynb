{
 "cells": [
  {
   "cell_type": "code",
   "execution_count": 1,
   "id": "c07071df",
   "metadata": {},
   "outputs": [],
   "source": [
    "fruits = [\"mango\", \"orange\", \"pineapple\", \"avocado\"]"
   ]
  },
  {
   "cell_type": "code",
   "execution_count": 2,
   "id": "eb9e0e06",
   "metadata": {},
   "outputs": [
    {
     "name": "stdout",
     "output_type": "stream",
     "text": [
      "mango is my favorite fruit\n",
      "orange is okay.\n",
      "pineapple is okay.\n",
      "avocado is okay.\n"
     ]
    }
   ],
   "source": [
    "for fruit in fruits:\n",
    "    if fruit == \"mango\":\n",
    "        print(fruit, \"is my favorite fruit\")\n",
    "    else:\n",
    "        print(fruit, \"is okay.\")"
   ]
  },
  {
   "cell_type": "code",
   "execution_count": null,
   "id": "86120e55",
   "metadata": {},
   "outputs": [],
   "source": []
  }
 ],
 "metadata": {
  "kernelspec": {
   "display_name": "Python 3 (ipykernel)",
   "language": "python",
   "name": "python3"
  },
  "language_info": {
   "codemirror_mode": {
    "name": "ipython",
    "version": 3
   },
   "file_extension": ".py",
   "mimetype": "text/x-python",
   "name": "python",
   "nbconvert_exporter": "python",
   "pygments_lexer": "ipython3",
   "version": "3.9.7"
  }
 },
 "nbformat": 4,
 "nbformat_minor": 5
}
